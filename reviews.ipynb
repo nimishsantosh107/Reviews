{
 "cells": [
  {
   "cell_type": "markdown",
   "metadata": {},
   "source": [
    "## Imports"
   ]
  },
  {
   "cell_type": "code",
   "execution_count": 1,
   "metadata": {},
   "outputs": [],
   "source": [
    "import pandas as pd\n",
    "import numpy as np"
   ]
  },
  {
   "cell_type": "code",
   "execution_count": 2,
   "metadata": {},
   "outputs": [],
   "source": [
    "import re\n",
    "import spacy\n",
    "nlp = spacy.load(\"en_core_web_sm\")\n",
    "from nltk.corpus import stopwords \n",
    "stop = set(stopwords.words('english'))"
   ]
  },
  {
   "cell_type": "markdown",
   "metadata": {},
   "source": [
    "## Data"
   ]
  },
  {
   "cell_type": "code",
   "execution_count": 3,
   "metadata": {},
   "outputs": [
    {
     "name": "stderr",
     "output_type": "stream",
     "text": [
      "b'Skipping line 35246: expected 15 fields, saw 22\\n'\n",
      "b'Skipping line 87073: expected 15 fields, saw 22\\n'\n"
     ]
    },
    {
     "data": {
      "text/html": [
       "<div>\n",
       "<style scoped>\n",
       "    .dataframe tbody tr th:only-of-type {\n",
       "        vertical-align: middle;\n",
       "    }\n",
       "\n",
       "    .dataframe tbody tr th {\n",
       "        vertical-align: top;\n",
       "    }\n",
       "\n",
       "    .dataframe thead th {\n",
       "        text-align: right;\n",
       "    }\n",
       "</style>\n",
       "<table border=\"1\" class=\"dataframe\">\n",
       "  <thead>\n",
       "    <tr style=\"text-align: right;\">\n",
       "      <th></th>\n",
       "      <th>marketplace</th>\n",
       "      <th>customer_id</th>\n",
       "      <th>review_id</th>\n",
       "      <th>product_id</th>\n",
       "      <th>product_parent</th>\n",
       "      <th>product_title</th>\n",
       "      <th>product_category</th>\n",
       "      <th>star_rating</th>\n",
       "      <th>helpful_votes</th>\n",
       "      <th>total_votes</th>\n",
       "      <th>vine</th>\n",
       "      <th>verified_purchase</th>\n",
       "      <th>review_headline</th>\n",
       "      <th>review_body</th>\n",
       "      <th>review_date</th>\n",
       "    </tr>\n",
       "  </thead>\n",
       "  <tbody>\n",
       "    <tr>\n",
       "      <td>0</td>\n",
       "      <td>US</td>\n",
       "      <td>20422322</td>\n",
       "      <td>R8MEA6IGAHO0B</td>\n",
       "      <td>B00MC4CED8</td>\n",
       "      <td>217304173</td>\n",
       "      <td>BlackVue DR600GW-PMP</td>\n",
       "      <td>Mobile_Electronics</td>\n",
       "      <td>5.0</td>\n",
       "      <td>0.0</td>\n",
       "      <td>0.0</td>\n",
       "      <td>N</td>\n",
       "      <td>Y</td>\n",
       "      <td>Very Happy!</td>\n",
       "      <td>As advertised. Everything works perfectly, I'm...</td>\n",
       "      <td>2015-08-31</td>\n",
       "    </tr>\n",
       "  </tbody>\n",
       "</table>\n",
       "</div>"
      ],
      "text/plain": [
       "  marketplace  customer_id      review_id  product_id  product_parent  \\\n",
       "0          US     20422322  R8MEA6IGAHO0B  B00MC4CED8       217304173   \n",
       "\n",
       "          product_title    product_category  star_rating  helpful_votes  \\\n",
       "0  BlackVue DR600GW-PMP  Mobile_Electronics          5.0            0.0   \n",
       "\n",
       "   total_votes vine verified_purchase review_headline  \\\n",
       "0          0.0    N                 Y     Very Happy!   \n",
       "\n",
       "                                         review_body review_date  \n",
       "0  As advertised. Everything works perfectly, I'm...  2015-08-31  "
      ]
     },
     "execution_count": 3,
     "metadata": {},
     "output_type": "execute_result"
    }
   ],
   "source": [
    "df = pd.read_csv(\"./amazon-mobileelectronics.tsv\",sep=\"\\t\",error_bad_lines=False)\n",
    "df[0:1]"
   ]
  },
  {
   "cell_type": "code",
   "execution_count": 4,
   "metadata": {},
   "outputs": [],
   "source": [
    "data = df[['product_id','product_title','star_rating','review_headline','review_body']]\n",
    "data = data.dropna()"
   ]
  },
  {
   "cell_type": "code",
   "execution_count": 21,
   "metadata": {},
   "outputs": [
    {
     "data": {
      "text/plain": [
       "'I am really enjoying this speaker. I was unsure if it was as good as some of the reviews gave it but I am very pleased with the sound quality and the value.'"
      ]
     },
     "execution_count": 21,
     "metadata": {},
     "output_type": "execute_result"
    }
   ],
   "source": [
    "sent = data.iloc[47]['review_body']\n",
    "sent"
   ]
  },
  {
   "cell_type": "markdown",
   "metadata": {},
   "source": [
    "## Definitions"
   ]
  },
  {
   "cell_type": "code",
   "execution_count": 6,
   "metadata": {},
   "outputs": [],
   "source": [
    "#LINE PREPROCESSOR\n",
    "REPLACE_NO_SPACE = re.compile(\"[.;:!\\'?,\\\"()\\[\\]]\")\n",
    "REPLACE_WITH_SPACE = re.compile(\"(<br\\s*/><br\\s*/>)|(\\-)|(\\/)\")\n",
    "\n",
    "def preprocess_reviews(reviews):\n",
    "    reviews = [REPLACE_NO_SPACE.sub(\"\", line.lower()) for line in reviews]\n",
    "    reviews = [REPLACE_WITH_SPACE.sub(\" \", line) for line in reviews]\n",
    "    return reviews"
   ]
  },
  {
   "cell_type": "code",
   "execution_count": 7,
   "metadata": {},
   "outputs": [],
   "source": [
    "#POS TAGGING\n",
    "def tagSentence(sentence):\n",
    "    doc = nlp(sentence)\n",
    "    obj = {}\n",
    "    obj[\"NOUN\"] = [token.lemma_.lower() for token in doc if token.pos_ == \"NOUN\"]\n",
    "    obj[\"PROPN\"] = [token.lemma_.lower() for token in doc if token.pos_ == \"PROPN\"]\n",
    "    obj[\"PRON\"] = [token.lemma_.lower() for token in doc if token.pos_ == \"PRON\"]\n",
    "    obj[\"VERB\"] = [token.lemma_.lower() for token in doc if token.pos_ == \"VERB\" and token.lemma_.lower() != \"be\"]\n",
    "    obj[\"ADJ\"] = [token.lemma_.lower() for token in doc if token.pos_ == \"ADJ\"]\n",
    "    obj[\"ADV\"] = [token.lemma_.lower() for token in doc if token.pos_ == \"ADV\"]\n",
    "    obj[\"NUM\"] = [token.lemma_.lower() for token in doc if token.pos_ == \"NUM\"]\n",
    "    obj[\"SYM\"] = [token.lemma_.lower() for token in doc if token.pos_ == \"SYM\"]\n",
    "    obj[\"X\"] = [token.lemma_.lower() for token in doc if token.pos_ == \"X\"]\n",
    "    return obj"
   ]
  },
  {
   "cell_type": "markdown",
   "metadata": {},
   "source": [
    "## Testing"
   ]
  },
  {
   "cell_type": "code",
   "execution_count": 16,
   "metadata": {},
   "outputs": [],
   "source": [
    "testsent = \"the battery life is by far the best and the camera was bad\"\n",
    "# testsent = [i for i in testsent.lower().split() if i not in stop]\n",
    "# testsent = \" \".join(testsent)\n",
    "# testsent"
   ]
  },
  {
   "cell_type": "code",
   "execution_count": 9,
   "metadata": {},
   "outputs": [],
   "source": [
    "def chunk(sent):\n",
    "#     sent=resolve_co_reference(sent)\n",
    "    conj = set(('and', 'or' ,'but','while','so','because','where','however','whereas'))\n",
    "    beverbs=set(('is','was','are','were'))\n",
    "    wdt=set(('which','that'))\n",
    "    l=[1,2,3]\n",
    "    tagged_list=[[]]\n",
    "    i=0\n",
    "    doc=nlp(sent)\n",
    "    for token in doc:\n",
    "        # if (token.lemma_==\"be\"):\n",
    "        #   l[0]=\"be\"\n",
    "        # else:\n",
    "        #   l[0]=token.text\n",
    "        l[0]=token.text\n",
    "        l[1]=token.tag_\n",
    "        if(token.dep_=='nsubj' and token.tag_.startswith(\"W\")==False):\n",
    "            l[2]=1\n",
    "        else:\n",
    "            l[2]=0\n",
    "        tagged_list.insert(i,l)\n",
    "        l=[1,2,3]\n",
    "        i=i+1\n",
    "\n",
    "    noun=-1\n",
    "    i=0\n",
    "    while(i<len(tagged_list)-1):\n",
    "        if(tagged_list[i][1].find(\"NN\")!=-1):\n",
    "            noun=i\n",
    "        if(tagged_list[i][0]in beverbs):\n",
    "            if(i<len(tagged_list)-2 and tagged_list[i+1][1].startswith(\"V\") and not tagged_list[i+1][1].startswith(\"VBG\")):\n",
    "                tagged_list[noun][2]=3\n",
    "        i=i+1\n",
    "    #print(tagged_list)\n",
    "\n",
    "    n=[[]]\n",
    "    ind=0\n",
    "    ind2=-1\n",
    "    i=0\n",
    "    subj=\"\"\n",
    "    lis=[]\n",
    "    flag=-1\n",
    "    find=-1\n",
    "    subj_type=-1\n",
    "    while(i<len(tagged_list)-1):\n",
    "        if(tagged_list[i][0] in wdt and i+1<len(tagged_list)-1 and tagged_list[i+1][1].find(\"VB\")!=-1):\n",
    "            if(i-2>=0 and tagged_list[i-1][0]==\",\"):\n",
    "                tagged_list[i][0]=tagged_list[i-2][0]\n",
    "                tagged_list[i][2]=1\n",
    "                tagged_list[i][1]=tagged_list[i-2][1]\n",
    "            else:\n",
    "                tagged_list[i-1][2]=1\n",
    "            subj=tagged_list[i-1][0]\n",
    "        i=i+1\n",
    "    i=0\n",
    "    while(i<len(tagged_list)-1):\n",
    "        if(tagged_list[i][2]==1 or tagged_list[i][2]==3):\n",
    "            subj=tagged_list[i][0]\n",
    "            subj_type=tagged_list[i][2]\n",
    "        if(tagged_list[i][1]==\"CC\"  or tagged_list[i][0] in conj or tagged_list[i][0]==\",\" or tagged_list[i][0]==\";\" or tagged_list[i][0]==\".\" or(tagged_list[i][0]in wdt and i+1<len(tagged_list)-1 and tagged_list[i+1][1].find(\"VB\")==-1)):\n",
    "            j=i+1\n",
    "            while(j<len(tagged_list)-1 and tagged_list[j][1].find(\"NN\")==-1 and tagged_list[j][1].find(\"VB\")==-1):\n",
    "                j=j+1\n",
    "            if(j<len(tagged_list)-1and tagged_list[j][1].find(\"NN\")!=-1):\n",
    "                \n",
    "                if((tagged_list[j][2]==1 or tagged_list[j][2]==3)):\n",
    "                    if(ind2!=-1 and ind2!=ind):\n",
    "                        find=find+1                 \n",
    "                        while(find<len(tagged_list)-1 and (tagged_list[find][1]!=\"CC\"  and tagged_list[find][0] not in conj and tagged_list[find][0]!=\",\" and tagged_list[find][0]!=\";\" and tagged_list[find][0]!=\".\" and(tagged_list[i][0]not in wdt or (i+1<len(tagged_list)-1 and tagged_list[i+1][1].find(\"VB\")!=-1)))):\n",
    "                            find=find+1\n",
    "                        n.append([tagged_list[x][0] for x in range(ind2,i) if(x not in range(ct,find+1))])\n",
    "                        ind2=-1\n",
    "                    else:\n",
    "                        for x in range(ind,i):\n",
    "                            if(tagged_list[x][1]==\"CC\"  or tagged_list[x][0] in conj or tagged_list[x][0]==\",\" or tagged_list[x][0]==\";\" or tagged_list[x][0]==\".\" or (tagged_list[x][0]in wdt and x+1<len(tagged_list)-1 and tagged_list[x+1][1].find(\"VB\")==-1) ):\n",
    "                                if(x>ind and x<i-1):\n",
    "                                    if((tagged_list[x-1][2]== 1 or tagged_list[x-1][2]==2)):\n",
    "                                        y=x+1\n",
    "                                        while(y<len(tagged_list)-1 and tagged_list[y][1].find(\"NN\")==-1 and tagged_list[y][1].find(\"VB\")==-1):\n",
    "                                            y=y+1\n",
    "                                        if(tagged_list[y][2]==1 or tagged_list[y][2]==2 or tagged_list[y][2]==3):\n",
    "                                            if(len(lis)==0):\n",
    "                                                lis.append(x-1)\n",
    "                                            lis.append(y)\n",
    "                        for l in range(len(lis)):\n",
    "                            n.append([tagged_list[x][0] for x in range(ind,i) if(x == lis[l] or x>lis[len(lis)-1]) or (l==0 and x<lis[0]) or (l>0 and x>lis[l-1]) and x<=lis[l]])\n",
    "                        if(len(lis)==0):\n",
    "                            n.append([tagged_list[x][0] for x in range(ind,i)])\n",
    "                    lis=[]\n",
    "                    ind =i+1\n",
    "                elif(i-1>=0 and (tagged_list[i-1][2]==1 or tagged_list[i-1][2]==2 or tagged_list[i-1][2]==3)):\n",
    "                    tagged_list[j][2]=2\n",
    "                    subj=subj+\" \"+tagged_list[i][0]+\" \"+tagged_list[j][0]\n",
    "\n",
    "                else:\n",
    "                    if(ind2==-1):\n",
    "                        ind2=ind\n",
    "                    ct=ind2\n",
    "                    while(ct<i-1 and ((tagged_list[ct][1].find(\"NN\")==-1 or tagged_list[ct][1].find(\"VB\")==-1) or (tagged_list[ct][2]==1 or tagged_list[ct][2]==2 or tagged_list[ct][2]==3 ))):\n",
    "                        ct=ct+1\n",
    "                    if(flag!=ind2):\n",
    "                        n.append([tagged_list[x][0] for x in range(ind2,i)])\n",
    "                        flag=ind2\n",
    "                        find=ct\n",
    "                    else:\n",
    "                        find=find+1                 \n",
    "                        while(find<len(tagged_list)-1 and (tagged_list[find][1]!=\"CC\"  and tagged_list[find][0] not in conj and tagged_list[find][0]!=\",\" and tagged_list[find][0]!=\";\" and tagged_list[find][0]!=\".\" and(tagged_list[i][0]not in wdt or (i+1<len(tagged_list)-1 and tagged_list[i+1][1].find(\"VB\")!=-1)))):\n",
    "                            find=find+1\n",
    "                        n.append([tagged_list[x][0] for x in range(ind2,i) if(x not in range(ct,find+1))])\n",
    "                    ind=i+1 #ADDED NOW\n",
    "\n",
    "\n",
    "\n",
    "            elif(j<len(tagged_list)-1 and tagged_list[j][1].find(\"VB\")!=-1):\n",
    "                if(ind2!=-1 and ind2!=ind):\n",
    "                    find=find+1                 \n",
    "                    while(find<len(tagged_list)-1 and (tagged_list[find][1]!=\"CC\"  and tagged_list[find][0] not in conj and tagged_list[find][0]!=\",\" and tagged_list[find][0]!=\";\" and tagged_list[find][0]!=\".\" and(tagged_list[i][0]not in wdt or (i+1<len(tagged_list)-1 and tagged_list[i+1][1].find(\"VB\")!=-1)))):\n",
    "                        find=find+1\n",
    "                    n.append([tagged_list[x][0] for x in range(ind2,i) if(x not in range(ct,find+1))])\n",
    "                    ind2=-1\n",
    "                else:\n",
    "                    for x in range(ind,i): #TO SEPARATE SUBJECTS\n",
    "                        if(tagged_list[x][1]==\"CC\"  or tagged_list[x][0] in conj or tagged_list[x][0]==\",\" or tagged_list[x][0]==\";\" or tagged_list[x][0]==\".\" or (tagged_list[x][0]in wdt and x+1<len(tagged_list)-1 and tagged_list[x+1][1].find(\"VB\")==-1) ):\n",
    "                            if(x>ind and x<i-1):\n",
    "                                if((tagged_list[x-1][2]== 1 or tagged_list[x-1][2]==2)):\n",
    "                                    y=x+1\n",
    "                                    while(y<len(tagged_list)-1 and tagged_list[y][1].find(\"NN\")==-1 and tagged_list[y][1].find(\"VB\")==-1):\n",
    "                                        y=y+1\n",
    "                                    if(tagged_list[y][2]==1 or tagged_list[y][2]==2 or tagged_list[y][2]==3):\n",
    "                                        if(len(lis)==0):\n",
    "                                            lis.append(x-1)\n",
    "                                        lis.append(y)\n",
    "                    for l in range(len(lis)):\n",
    "                        n.append([tagged_list[x][0] for x in range(ind,i) if(x == lis[l] or x>lis[len(lis)-1]) or (l==0 and x<lis[0]) or (l>0 and x>lis[l-1]) and x<=lis[l]])\n",
    "                    if(len(lis)==0):\n",
    "                        n.append([tagged_list[x][0] for x in range(ind,i)])\n",
    "                if(i+1<len(tagged_list)-1 and tagged_list[i+1][1]!=\"PRP\"):\n",
    "                    if(subj_type==3):\n",
    "                        tagged_list[i][0]=subj+\" was \"\n",
    "                    else:\n",
    "                        tagged_list[i][0]=subj\n",
    "                    ind=i\n",
    "                else:\n",
    "                    ind=i+1\n",
    "                lis=[]\n",
    "\n",
    "        \n",
    "        i=i+1\n",
    "    if(ind2!=-1 and ind2!=ind):\n",
    "        find=find+1                 \n",
    "        while(find<len(tagged_list)-1 and (tagged_list[find][1]!=\"CC\"  and tagged_list[find][0] not in conj and tagged_list[find][0]!=\",\" and tagged_list[find][0]!=\";\" and tagged_list[find][0]!=\".\" and(tagged_list[find][0]not in wdt or (find+1<len(tagged_list)-1 and tagged_list[find+1][1].find(\"VB\")!=-1)))):\n",
    "            find=find+1\n",
    "        n.append([tagged_list[x][0] for x in range(ind2,i) if(x not in range(ct,find+1))])\n",
    "        ind2=-1;\n",
    "    else:   \n",
    "        for x in range(ind,i):\n",
    "            if(tagged_list[x][1]==\"CC\"  or tagged_list[x][0] in conj or tagged_list[x][0]==\",\" or tagged_list[x][0]==\";\" or tagged_list[x][0]==\".\" or (tagged_list[x][0]in wdt and x+1<len(tagged_list)-1 and tagged_list[x+1][1].find(\"VB\")==-1) ):\n",
    "                if(x>ind and x<i-1):\n",
    "                    if((tagged_list[x-1][2]== 1 or tagged_list[x-1][2]==2)):\n",
    "                        y=x+1\n",
    "                        while(y<len(tagged_list)-1 and tagged_list[y][1].find(\"NN\")==-1 and tagged_list[y][1].find(\"VB\")==-1):\n",
    "                            y=y+1\n",
    "                        if(tagged_list[y][2]==1 or tagged_list[y][2]==2):\n",
    "                            if(len(lis)==0):\n",
    "                                lis.append(x-1)\n",
    "                            lis.append(y)\n",
    "        for l in range(len(lis)):\n",
    "            n.append([tagged_list[x][0] for x in range(ind,i) if(x == lis[l] or x>lis[len(lis)-1]) or (l==0 and x<lis[0]) or (l>0 and x>lis[l-1]) and x<=lis[l]])\n",
    "        if(len(lis)==0):\n",
    "            n.append([tagged_list[x][0] for x in range(ind,i)])\n",
    "    stringArr = []\n",
    "    for arr in n:\n",
    "        if(len(arr)>0):\n",
    "            stringArr.append(' '.join(arr))\n",
    "    return stringArr\n"
   ]
  },
  {
   "cell_type": "code",
   "execution_count": 19,
   "metadata": {},
   "outputs": [],
   "source": [
    "a = chunk(testsent)"
   ]
  },
  {
   "cell_type": "code",
   "execution_count": 20,
   "metadata": {},
   "outputs": [
    {
     "name": "stdout",
     "output_type": "stream",
     "text": [
      "{'NOUN': ['battery', 'life'], 'PROPN': [], 'PRON': [], 'VERB': [], 'ADJ': ['good'], 'ADV': ['far'], 'NUM': [], 'SYM': [], 'X': []}\n",
      "{'NOUN': ['camera'], 'PROPN': [], 'PRON': [], 'VERB': [], 'ADJ': ['bad'], 'ADV': [], 'NUM': [], 'SYM': [], 'X': []}\n"
     ]
    }
   ],
   "source": [
    "for sent in a:\n",
    "    print(tagSentence(sent))"
   ]
  },
  {
   "cell_type": "code",
   "execution_count": null,
   "metadata": {},
   "outputs": [],
   "source": []
  }
 ],
 "metadata": {
  "kernelspec": {
   "display_name": "Python 3",
   "language": "python",
   "name": "python3"
  },
  "language_info": {
   "codemirror_mode": {
    "name": "ipython",
    "version": 3
   },
   "file_extension": ".py",
   "mimetype": "text/x-python",
   "name": "python",
   "nbconvert_exporter": "python",
   "pygments_lexer": "ipython3",
   "version": "3.7.4"
  }
 },
 "nbformat": 4,
 "nbformat_minor": 4
}
